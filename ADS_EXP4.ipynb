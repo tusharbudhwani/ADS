{
  "cells": [
    {
      "cell_type": "markdown",
      "metadata": {
        "id": "V3Iq9HMG-MPn"
      },
      "source": [
        "Classification"
      ]
    },
    {
      "cell_type": "code",
      "execution_count": 2,
      "metadata": {
        "id": "N5KWEiLY-FGO"
      },
      "outputs": [],
      "source": [
        "from sklearn import datasets\n",
        "from sklearn.tree import DecisionTreeClassifier\n",
        "from sklearn.model_selection import train_test_split\n",
        "import seaborn as sns\n",
        "\n"
      ]
    },
    {
      "cell_type": "code",
      "execution_count": 3,
      "metadata": {
        "id": "jK9Jv4QK_LYG"
      },
      "outputs": [],
      "source": [
        "dataset = datasets.load_breast_cancer()\n",
        "X = dataset.data\n",
        "y = dataset.target"
      ]
    },
    {
      "cell_type": "code",
      "execution_count": 4,
      "metadata": {
        "id": "TAWkBsy__WA6"
      },
      "outputs": [],
      "source": [
        "X_train, X_test, y_train, y_test = train_test_split(X, y, test_size=0.2)"
      ]
    },
    {
      "cell_type": "code",
      "execution_count": 5,
      "metadata": {
        "id": "Hf1aPdY7_ags"
      },
      "outputs": [],
      "source": [
        "clf_tree = DecisionTreeClassifier();\n",
        "clf_tree.fit(X_train, y_train); \n"
      ]
    },
    {
      "cell_type": "code",
      "execution_count": 6,
      "metadata": {
        "colab": {
          "base_uri": "https://localhost:8080/"
        },
        "id": "OiqSF4vPAPrw",
        "outputId": "aceb818a-9166-47b9-9c7f-fb0ce96652a9"
      },
      "outputs": [
        {
          "name": "stdout",
          "output_type": "stream",
          "text": [
            "[1 0 0 1 0 0 0 1 0 1 0 0 0 1 1 0 1 1 1 0 1 0 1 1 1 1 1 1 1 0 0 1 0 1 1 0 1\n",
            " 1 1 1 0 1 1 0 1 1 1 1 1 1 1 1 0 1 1 1 1 0 0 1 0 1 0 0 0 1 1 1 0 1 1 0 1 1\n",
            " 1 0 1 1 1 1 1 1 1 1 1 1 0 1 1 0 1 1 1 1 1 1 1 1 1 1 1 1 1 1 1 1 1 0 1 1 0\n",
            " 1 1 0]\n"
          ]
        }
      ],
      "source": [
        "y_pred = clf_tree.predict(X_test)\n",
        "print(y_pred)"
      ]
    },
    {
      "cell_type": "markdown",
      "metadata": {
        "id": "Jdhc6jcACIBQ"
      },
      "source": [
        "Evaluation Metrics"
      ]
    },
    {
      "cell_type": "code",
      "execution_count": 7,
      "metadata": {
        "colab": {
          "base_uri": "https://localhost:8080/"
        },
        "id": "K_by18XBCLgR",
        "outputId": "d49bbffa-2819-4acf-ac74-66b5a67a14a3"
      },
      "outputs": [
        {
          "name": "stdout",
          "output_type": "stream",
          "text": [
            "True Negatives 32\n",
            "False Negatives 1\n",
            "True Positives 71\n",
            "False Positives 10\n"
          ]
        },
        {
          "data": {
            "text/plain": [
              "<AxesSubplot: >"
            ]
          },
          "execution_count": 7,
          "metadata": {},
          "output_type": "execute_result"
        },
        {
          "data": {
            "image/png": "[encoded data removed]",
            "text/plain": [
              "<Figure size 640x480 with 2 Axes>"
            ]
          },
          "metadata": {},
          "output_type": "display_data"
        }
      ],
      "source": [
        "from sklearn.metrics import confusion_matrix\n",
        "cm = confusion_matrix(y_test,y_pred)\n",
        "tn, fp, fn, tp = cm.ravel()\n",
        "print(\"True Negatives {}\".format(tn))\n",
        "print(\"False Negatives {}\".format(fn))\n",
        "print(\"True Positives {}\".format(tp))\n",
        "print(\"False Positives {}\".format(fp))\n",
        "sns.heatmap(data=cm,annot=True,cmap=\"Greens\")\n"
      ]
    },
    {
      "cell_type": "code",
      "execution_count": 8,
      "metadata": {
        "colab": {
          "base_uri": "https://localhost:8080/"
        },
        "id": "xyR3kK9gHDtV",
        "outputId": "8fc798c1-bd66-43fa-890f-396e9cea3b3a"
      },
      "outputs": [
        {
          "name": "stdout",
          "output_type": "stream",
          "text": [
            "Accuracy 0.9035087719298246\n"
          ]
        }
      ],
      "source": [
        "acc = (tn+tp)/(tn+tp+fn+fp)\n",
        "print(\"Accuracy {}\".format(acc))"
      ]
    },
    {
      "cell_type": "code",
      "execution_count": 9,
      "metadata": {
        "colab": {
          "base_uri": "https://localhost:8080/"
        },
        "id": "CQ87YwbwHfTf",
        "outputId": "08f81604-1072-4b56-91b9-bfc6c0b03427"
      },
      "outputs": [
        {
          "name": "stdout",
          "output_type": "stream",
          "text": [
            "Error Rate 0.09649122807017543\n"
          ]
        }
      ],
      "source": [
        "error_rate = (fn+fp)/(tn+tp+fn+fp)\n",
        "print(\"Error Rate {}\".format(error_rate))\n"
      ]
    },
    {
      "cell_type": "code",
      "execution_count": 10,
      "metadata": {
        "colab": {
          "base_uri": "https://localhost:8080/"
        },
        "id": "RMANQNydH7Pi",
        "outputId": "e46d4219-1807-4b02-c842-1444fc03d1ba"
      },
      "outputs": [
        {
          "name": "stdout",
          "output_type": "stream",
          "text": [
            "Precision 0.8765432098765432\n"
          ]
        }
      ],
      "source": [
        "precision = tp/(tp+fp)\n",
        "print(\"Precision {}\".format(precision))"
      ]
    },
    {
      "cell_type": "code",
      "execution_count": 11,
      "metadata": {
        "colab": {
          "base_uri": "https://localhost:8080/"
        },
        "id": "78CJX1jUIKCE",
        "outputId": "1f216b78-e5c8-458b-dc02-e0e2f15b383a"
      },
      "outputs": [
        {
          "name": "stdout",
          "output_type": "stream",
          "text": [
            "Sensitivity 0.9861111111111112\n",
            "Specificity 0.7619047619047619\n"
          ]
        }
      ],
      "source": [
        "sns = tp/(tp+fn)\n",
        "spc = tn/(tn+fp)\n",
        "print(\"Sensitivity {}\".format(sns))\n",
        "print(\"Specificity {}\".format(spc))"
      ]
    },
    {
      "cell_type": "code",
      "execution_count": 12,
      "metadata": {
        "colab": {
          "base_uri": "https://localhost:8080/"
        },
        "id": "USHgOcUMIhOr",
        "outputId": "24618637-718d-4571-878b-e3a1d8318c52"
      },
      "outputs": [
        {
          "name": "stdout",
          "output_type": "stream",
          "text": [
            "ROC 0.8811679719752478\n"
          ]
        }
      ],
      "source": [
        "import math\n",
        "roc = math.sqrt((sns*sns)+(spc*spc))/math.sqrt(2)\n",
        "print(\"ROC {}\".format(roc))"
      ]
    },
    {
      "cell_type": "code",
      "execution_count": 13,
      "metadata": {
        "colab": {
          "base_uri": "https://localhost:8080/"
        },
        "id": "-dKG9v1PJBrZ",
        "outputId": "177dccd2-193c-4049-f1be-82542bff186c"
      },
      "outputs": [
        {
          "name": "stdout",
          "output_type": "stream",
          "text": [
            "Geometric Mean 0.8667887581889553\n"
          ]
        }
      ],
      "source": [
        "GM = math.sqrt(sns*spc)\n",
        "print(\"Geometric Mean {}\".format(GM))"
      ]
    },
    {
      "cell_type": "code",
      "execution_count": 14,
      "metadata": {
        "colab": {
          "base_uri": "https://localhost:8080/"
        },
        "id": "-WBsAm1ZJQDA",
        "outputId": "707686b3-2202-498d-fe83-f67090865714"
      },
      "outputs": [
        {
          "name": "stdout",
          "output_type": "stream",
          "text": [
            "f1 score 0.9281045751633987\n"
          ]
        }
      ],
      "source": [
        "f1 = (2*sns*precision)/(precision+sns)\n",
        "print(\"f1 score {}\".format(f1))"
      ]
    },
    {
      "cell_type": "code",
      "execution_count": 15,
      "metadata": {
        "colab": {
          "base_uri": "https://localhost:8080/"
        },
        "id": "GfPlrkJwJhkB",
        "outputId": "0f1b7a25-6d5a-457e-da71-796f9257e5e4"
      },
      "outputs": [
        {
          "name": "stdout",
          "output_type": "stream",
          "text": [
            "False positive Rate 0.23809523809523814\n",
            "false negative Rate 0.01388888888888884\n",
            "Power 0.9861111111111112\n"
          ]
        }
      ],
      "source": [
        "fpr = 1-spc\n",
        "fnr = 1 -sns\n",
        "power = 1 - fnr\n",
        "print(\"False positive Rate {}\".format(fpr))\n",
        "print(\"false negative Rate {}\".format(fnr))\n",
        "print(\"Power {}\".format(power))"
      ]
    },
    {
      "cell_type": "markdown",
      "metadata": {
        "id": "_9_i4s1GKqWp"
      },
      "source": [
        "Plot ROC Curve"
      ]
    },
    {
      "cell_type": "code",
      "execution_count": 16,
      "metadata": {
        "colab": {
          "base_uri": "https://localhost:8080/"
        },
        "id": "BuziLJBMKsIm",
        "outputId": "3744a1ff-898d-4c90-82e3-8d49e61a02ad"
      },
      "outputs": [
        {
          "name": "stdout",
          "output_type": "stream",
          "text": [
            "roc_auc_score for DecisionTree:  0.8740079365079365\n"
          ]
        }
      ],
      "source": [
        "\n",
        "from sklearn.metrics import roc_curve, roc_auc_score\n",
        "false_positive_rate1, true_positive_rate1, threshold1 = roc_curve(y_test, y_pred)\n",
        "print('roc_auc_score for DecisionTree: ', roc_auc_score(y_test, y_pred))\n"
      ]
    },
    {
      "cell_type": "code",
      "execution_count": 17,
      "metadata": {
        "colab": {
          "base_uri": "https://localhost:8080/",
          "height": 621
        },
        "id": "zGs66jzGK27J",
        "outputId": "76d2bcdd-821f-4773-9a14-623c42a9eea1"
      },
      "outputs": [
        {
          "data": {
            "image/png": "[encoded data removed]",
            "text/plain": [
              "<Figure size 1000x1000 with 1 Axes>"
            ]
          },
          "metadata": {},
          "output_type": "display_data"
        }
      ],
      "source": [
        "import matplotlib.pyplot as plt\n",
        "plt.subplots(1, figsize=(10,10))\n",
        "plt.title('Receiver Operating Characteristic - DecisionTree')\n",
        "plt.plot(false_positive_rate1, true_positive_rate1)\n",
        "plt.plot([0, 1], ls=\"--\")\n",
        "plt.plot([0, 0], [1, 0] , c=\".7\"), plt.plot([1, 1] , c=\".7\")\n",
        "plt.ylabel('True Positive Rate')\n",
        "plt.xlabel('False Positive Rate')\n",
        "plt.show()"
      ]
    },
    {
      "cell_type": "markdown",
      "metadata": {
        "id": "PBDnKbtoOxJc"
      },
      "source": [
        "Regression"
      ]
    },
    {
      "cell_type": "code",
      "execution_count": 18,
      "metadata": {
        "colab": {
          "base_uri": "https://localhost:8080/",
          "height": 73
        },
        "id": "glg1jZmTk8A1",
        "outputId": "c1355f3d-ff5f-485f-fd70-b3a6d1b093dc"
      },
      "outputs": [
        {
          "ename": "ModuleNotFoundError",
          "evalue": "No module named 'google.colab'",
          "output_type": "error",
          "traceback": [
            "\u001b[0;31m---------------------------------------------------------------------------\u001b[0m",
            "\u001b[0;31mModuleNotFoundError\u001b[0m                       Traceback (most recent call last)",
            "Cell \u001b[0;32mIn[18], line 1\u001b[0m\n\u001b[0;32m----> 1\u001b[0m \u001b[39mfrom\u001b[39;00m \u001b[39mgoogle\u001b[39;00m\u001b[39m.\u001b[39;00m\u001b[39mcolab\u001b[39;00m \u001b[39mimport\u001b[39;00m files\n\u001b[1;32m      2\u001b[0m \u001b[39mimport\u001b[39;00m \u001b[39mio\u001b[39;00m\n\u001b[1;32m      3\u001b[0m \u001b[39mimport\u001b[39;00m \u001b[39mpandas\u001b[39;00m \u001b[39mas\u001b[39;00m \u001b[39mpd\u001b[39;00m\n",
            "\u001b[0;31mModuleNotFoundError\u001b[0m: No module named 'google.colab'"
          ]
        }
      ],
      "source": [
        "from google.colab import files\n",
        "import io\n",
        "import pandas as pd\n",
        "import numpy as np\n",
        "uploaded = files.upload()\n",
        "df = pd.read_excel(io.BytesIO(uploaded['regdata.xlsx']))"
      ]
    },
    {
      "cell_type": "code",
      "execution_count": null,
      "metadata": {
        "colab": {
          "base_uri": "https://localhost:8080/",
          "height": 206
        },
        "id": "6Pj3IEEilcK1",
        "outputId": "83bc0c77-7fbd-4475-cd06-6b75ab6e00e6"
      },
      "outputs": [
        {
          "data": {
            "text/html": [
              "\n",
              "  <div id=\"df-e6f2a00e-b9f5-4d46-af4f-4991864efc7c\">\n",
              "    <div class=\"colab-df-container\">\n",
              "      <div>\n",
              "<style scoped>\n",
              "    .dataframe tbody tr th:only-of-type {\n",
              "        vertical-align: middle;\n",
              "    }\n",
              "\n",
              "    .dataframe tbody tr th {\n",
              "        vertical-align: top;\n",
              "    }\n",
              "\n",
              "    .dataframe thead th {\n",
              "        text-align: right;\n",
              "    }\n",
              "</style>\n",
              "<table border=\"1\" class=\"dataframe\">\n",
              "  <thead>\n",
              "    <tr style=\"text-align: right;\">\n",
              "      <th></th>\n",
              "      <th>Price</th>\n",
              "      <th>Dem</th>\n",
              "    </tr>\n",
              "  </thead>\n",
              "  <tbody>\n",
              "    <tr>\n",
              "      <th>0</th>\n",
              "      <td>3.0</td>\n",
              "      <td>7479</td>\n",
              "    </tr>\n",
              "    <tr>\n",
              "      <th>1</th>\n",
              "      <td>3.6</td>\n",
              "      <td>6304</td>\n",
              "    </tr>\n",
              "    <tr>\n",
              "      <th>2</th>\n",
              "      <td>40.0</td>\n",
              "      <td>94</td>\n",
              "    </tr>\n",
              "    <tr>\n",
              "      <th>3</th>\n",
              "      <td>21.0</td>\n",
              "      <td>349</td>\n",
              "    </tr>\n",
              "    <tr>\n",
              "      <th>4</th>\n",
              "      <td>4.0</td>\n",
              "      <td>7095</td>\n",
              "    </tr>\n",
              "  </tbody>\n",
              "</table>\n",
              "</div>\n",
              "      <button class=\"colab-df-convert\" onclick=\"convertToInteractive('df-e6f2a00e-b9f5-4d46-af4f-4991864efc7c')\"\n",
              "              title=\"Convert this dataframe to an interactive table.\"\n",
              "              style=\"display:none;\">\n",
              "        \n",
              "  <svg xmlns=\"http://www.w3.org/2000/svg\" height=\"24px\"viewBox=\"0 0 24 24\"\n",
              "       width=\"24px\">\n",
              "    <path d=\"M0 0h24v24H0V0z\" fill=\"none\"/>\n",
              "    <path d=\"M18.56 5.44l.94 2.06.94-2.06 2.06-.94-2.06-.94-.94-2.06-.94 2.06-2.06.94zm-11 1L8.5 8.5l.94-2.06 2.06-.94-2.06-.94L8.5 2.5l-.94 2.06-2.06.94zm10 10l.94 2.06.94-2.06 2.06-.94-2.06-.94-.94-2.06-.94 2.06-2.06.94z\"/><path d=\"M17.41 7.96l-1.37-1.37c-.4-.4-.92-.59-1.43-.59-.52 0-1.04.2-1.43.59L10.3 9.45l-7.72 7.72c-.78.78-.78 2.05 0 2.83L4 21.41c.39.39.9.59 1.41.59.51 0 1.02-.2 1.41-.59l7.78-7.78 2.81-2.81c.8-.78.8-2.07 0-2.86zM5.41 20L4 18.59l7.72-7.72 1.47 1.35L5.41 20z\"/>\n",
              "  </svg>\n",
              "      </button>\n",
              "      \n",
              "  <style>\n",
              "    .colab-df-container {\n",
              "      display:flex;\n",
              "      flex-wrap:wrap;\n",
              "      gap: 12px;\n",
              "    }\n",
              "\n",
              "    .colab-df-convert {\n",
              "      background-color: #E8F0FE;\n",
              "      border: none;\n",
              "      border-radius: 50%;\n",
              "      cursor: pointer;\n",
              "      display: none;\n",
              "      fill: #1967D2;\n",
              "      height: 32px;\n",
              "      padding: 0 0 0 0;\n",
              "      width: 32px;\n",
              "    }\n",
              "\n",
              "    .colab-df-convert:hover {\n",
              "      background-color: #E2EBFA;\n",
              "      box-shadow: 0px 1px 2px rgba(60, 64, 67, 0.3), 0px 1px 3px 1px rgba(60, 64, 67, 0.15);\n",
              "      fill: #174EA6;\n",
              "    }\n",
              "\n",
              "    [theme=dark] .colab-df-convert {\n",
              "      background-color: #3B4455;\n",
              "      fill: #D2E3FC;\n",
              "    }\n",
              "\n",
              "    [theme=dark] .colab-df-convert:hover {\n",
              "      background-color: #434B5C;\n",
              "      box-shadow: 0px 1px 3px 1px rgba(0, 0, 0, 0.15);\n",
              "      filter: drop-shadow(0px 1px 2px rgba(0, 0, 0, 0.3));\n",
              "      fill: #FFFFFF;\n",
              "    }\n",
              "  </style>\n",
              "\n",
              "      <script>\n",
              "        const buttonEl =\n",
              "          document.querySelector('#df-e6f2a00e-b9f5-4d46-af4f-4991864efc7c button.colab-df-convert');\n",
              "        buttonEl.style.display =\n",
              "          google.colab.kernel.accessAllowed ? 'block' : 'none';\n",
              "\n",
              "        async function convertToInteractive(key) {\n",
              "          const element = document.querySelector('#df-e6f2a00e-b9f5-4d46-af4f-4991864efc7c');\n",
              "          const dataTable =\n",
              "            await google.colab.kernel.invokeFunction('convertToInteractive',\n",
              "                                                     [key], {});\n",
              "          if (!dataTable) return;\n",
              "\n",
              "          const docLinkHtml = 'Like what you see? Visit the ' +\n",
              "            '<a target=\"_blank\" href=https://colab.research.google.com/notebooks/data_table.ipynb>data table notebook</a>'\n",
              "            + ' to learn more about interactive tables.';\n",
              "          element.innerHTML = '';\n",
              "          dataTable['output_type'] = 'display_data';\n",
              "          await google.colab.output.renderOutput(dataTable, element);\n",
              "          const docLink = document.createElement('div');\n",
              "          docLink.innerHTML = docLinkHtml;\n",
              "          element.appendChild(docLink);\n",
              "        }\n",
              "      </script>\n",
              "    </div>\n",
              "  </div>\n",
              "  "
            ],
            "text/plain": [
              "   Price   Dem\n",
              "0    3.0  7479\n",
              "1    3.6  6304\n",
              "2   40.0    94\n",
              "3   21.0   349\n",
              "4    4.0  7095"
            ]
          },
          "execution_count": 83,
          "metadata": {},
          "output_type": "execute_result"
        }
      ],
      "source": [
        "df.head()"
      ]
    },
    {
      "cell_type": "code",
      "execution_count": null,
      "metadata": {
        "colab": {
          "base_uri": "https://localhost:8080/",
          "height": 297
        },
        "id": "DNTp-HEQlgky",
        "outputId": "eb4c7cc6-3328-4a3c-c452-dd4abcc14f69"
      },
      "outputs": [
        {
          "data": {
            "text/plain": [
              "<AxesSubplot:xlabel='naturalLogPrice', ylabel='naturalLogDemand'>"
            ]
          },
          "execution_count": 87,
          "metadata": {},
          "output_type": "execute_result"
        },
        {
          "data": {
            "image/png": "[encoded data removed]",
            "text/plain": [
              "<Figure size 432x288 with 1 Axes>"
            ]
          },
          "metadata": {
            "needs_background": "light"
          },
          "output_type": "display_data"
        }
      ],
      "source": [
        "import seaborn as sns\n",
        "df2 = df[['Price','Dem']]\n",
        "#rho=df2['Price'].corr(df2['Demand'])\n",
        "df2['naturalLogPrice'] = np.log(df2['Price'])\n",
        "df2['naturalLogDemand'] = np.log(df2['Dem'])\n",
        "\n",
        "sns.regplot(x=\"naturalLogPrice\", y=\"naturalLogDemand\", data=df2, fit_reg=True)"
      ]
    },
    {
      "cell_type": "code",
      "execution_count": null,
      "metadata": {
        "id": "ck0rw3v9olLo"
      },
      "outputs": [],
      "source": [
        "X=df2[['naturalLogPrice']]\n",
        "y=df2['naturalLogDemand']\n"
      ]
    },
    {
      "cell_type": "code",
      "execution_count": null,
      "metadata": {
        "colab": {
          "base_uri": "https://localhost:8080/"
        },
        "id": "PToeQDK_pMjc",
        "outputId": "eb82d02b-ad62-4cd6-ad57-4bf6a91cf4e0"
      },
      "outputs": [
        {
          "name": "stdout",
          "output_type": "stream",
          "text": [
            "[9.58353854 9.30893947 5.68227212 6.6527544  9.15025335 6.11555731\n",
            " 6.16661729 6.88492461 7.92889099 8.53957217 8.81417124 8.10628697\n",
            " 7.15952369 6.01835422 6.72623849 7.77020487 6.97101233 8.30740196\n",
            " 5.7204039  9.15025335 5.8833871  5.7204039  5.53872306 5.68227212\n",
            " 6.39015639 8.10628697 8.81417124 8.10628697 7.77020487 7.26343558\n",
            " 6.33108508]\n"
          ]
        }
      ],
      "source": [
        "from sklearn.linear_model import LinearRegression\n",
        "\n",
        "model= LinearRegression()\n",
        "model.fit(X,y)\n",
        "y_pred = model.predict(X)\n",
        "print(y_pred)\n"
      ]
    },
    {
      "cell_type": "markdown",
      "metadata": {
        "id": "COCkeLqup2VK"
      },
      "source": [
        "Evaluation Metrics"
      ]
    },
    {
      "cell_type": "code",
      "execution_count": null,
      "metadata": {
        "colab": {
          "base_uri": "https://localhost:8080/"
        },
        "id": "Oh_e4-mIxIWh",
        "outputId": "4edfcb23-aeaa-461f-ba78-c69951708a4c"
      },
      "outputs": [
        {
          "name": "stdout",
          "output_type": "stream",
          "text": [
            "Pearsons correlation: -0.905\n"
          ]
        }
      ],
      "source": [
        "from scipy.stats import pearsonr\n",
        "list1 = df2['naturalLogPrice']\n",
        "list2 = df2['naturalLogDemand']\n",
        " \n",
        "\n",
        "corr, _ = pearsonr(list1, list2)\n",
        "print('Pearsons correlation: %.3f' % corr)"
      ]
    },
    {
      "cell_type": "code",
      "execution_count": null,
      "metadata": {
        "colab": {
          "base_uri": "https://localhost:8080/"
        },
        "id": "8yAvZF4kp2CD",
        "outputId": "0686f31e-e67a-48c0-b1d0-b0f9a8ac8741"
      },
      "outputs": [
        {
          "name": "stdout",
          "output_type": "stream",
          "text": [
            "Mean Squared Error 0.3454660948504056\n"
          ]
        }
      ],
      "source": [
        "a = np.sum((y-y_pred)**2)\n",
        "n =np.size(y)\n",
        "\n",
        "mse = a/n\n",
        "print(\"Mean Squared Error\",mse)"
      ]
    },
    {
      "cell_type": "code",
      "execution_count": null,
      "metadata": {
        "colab": {
          "base_uri": "https://localhost:8080/"
        },
        "id": "vsvWqVl5p4Wf",
        "outputId": "1fba27a1-a03c-483f-d903-024aff454c68"
      },
      "outputs": [
        {
          "name": "stdout",
          "output_type": "stream",
          "text": [
            "Root Mean Squared Error  0.5877636385915733\n"
          ]
        }
      ],
      "source": [
        "rmse = math.sqrt(mse)\n",
        "print(\"Root Mean Squared Error \",rmse)"
      ]
    },
    {
      "cell_type": "code",
      "execution_count": null,
      "metadata": {
        "colab": {
          "base_uri": "https://localhost:8080/"
        },
        "id": "3s5D9ANluKr-",
        "outputId": "a8beca07-217d-49a1-93af-27951f3b4908"
      },
      "outputs": [
        {
          "name": "stdout",
          "output_type": "stream",
          "text": [
            "Coefficient of Determination  0.8191308248745721\n"
          ]
        }
      ],
      "source": [
        "q = np.sum((y-y_pred)**2)\n",
        "my = np.sum(y)/n\n",
        "mx =np.sum(X)/n\n",
        "p = np.sum((y-my)**2)\n",
        "\n",
        "R2 = 1-(q/p)\n",
        "print(\"Coefficient of Determination \",R2)"
      ]
    },
    {
      "cell_type": "code",
      "execution_count": null,
      "metadata": {
        "colab": {
          "base_uri": "https://localhost:8080/"
        },
        "id": "UelNYdNWuv8Y",
        "outputId": "33087333-fef8-42c3-aaae-363d614a9aee"
      },
      "outputs": [
        {
          "name": "stdout",
          "output_type": "stream",
          "text": [
            "Root Mean Squared Relative Error  0.09069297051123976\n"
          ]
        }
      ],
      "source": [
        "b = np.sum(((y-y_pred)/y)**2)\n",
        "rmsre = math.sqrt(b/n)\n",
        "print(\"Root Mean Squared Relative Error \",rmsre)"
      ]
    },
    {
      "cell_type": "code",
      "execution_count": null,
      "metadata": {
        "colab": {
          "base_uri": "https://localhost:8080/"
        },
        "id": "x7RaLSEVvJPd",
        "outputId": "b09c3545-8126-4fd4-afdb-bd7dc619ec94"
      },
      "outputs": [
        {
          "name": "stdout",
          "output_type": "stream",
          "text": [
            "Mean Absolute Error  0.42009293046421337\n"
          ]
        }
      ],
      "source": [
        "a = np.sum(abs(y-y_pred))\n",
        "n =np.size(y)\n",
        "\n",
        "mae = a/n\n",
        "print(\"Mean Absolute Error \",mae)"
      ]
    },
    {
      "cell_type": "code",
      "execution_count": null,
      "metadata": {
        "colab": {
          "base_uri": "https://localhost:8080/"
        },
        "id": "vkLPxN2hvVO2",
        "outputId": "3efc7bd1-60ea-4e25-f876-3f979b9e44c9"
      },
      "outputs": [
        {
          "name": "stdout",
          "output_type": "stream",
          "text": [
            "Mean absolute Percentage Error 6.282253592691315\n"
          ]
        }
      ],
      "source": [
        "b = np.sum(abs((y-y_pred)/y))\n",
        "mape = (100*b)/n\n",
        "print(\"Mean absolute Percentage Error\",mape)"
      ]
    }
  ],
  "metadata": {
    "colab": {
      "provenance": []
    },
    "kernelspec": {
      "display_name": "Python 3",
      "name": "python3"
    },
    "language_info": {
      "codemirror_mode": {
        "name": "ipython",
        "version": 3
      },
      "file_extension": ".py",
      "mimetype": "text/x-python",
      "name": "python",
      "nbconvert_exporter": "python",
      "pygments_lexer": "ipython3",
      "version": "3.10.6"
    }
  },
  "nbformat": 4,
  "nbformat_minor": 0
}
